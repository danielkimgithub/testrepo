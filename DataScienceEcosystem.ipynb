{
 "cells": [
  {
   "cell_type": "markdown",
   "id": "2b1d40a2-786d-4417-9463-68e3c6da8520",
   "metadata": {},
   "source": [
    "# Data Science Tools and Ecosystem"
   ]
  },
  {
   "cell_type": "markdown",
   "id": "d5530afa-7193-4204-a99a-e54e05692eb7",
   "metadata": {},
   "source": [
    "In this notebook, Data Science Tools and Ecosystem are summarized."
   ]
  },
  {
   "cell_type": "markdown",
   "id": "6565f832-0e5a-4364-be76-b216b295172c",
   "metadata": {},
   "source": [
    "**Objectives:**\n",
    "* List popular languages for Data Science\n",
    "* Commonly used libraries for Data Science\n",
    "* Data Science Tools: Open Source Development Environment\n",
    "* Evaluation of arithmetic expressions in Python"
   ]
  },
  {
   "cell_type": "markdown",
   "id": "67c9a5c4-b0db-4e30-b3a0-f8794c7171cc",
   "metadata": {},
   "source": [
    "Some of the popular languages that Data Scientists use are:\n",
    "1. Python\n",
    "2. C++\n",
    "3. R\n",
    "4. SQL\n",
    "5. Java"
   ]
  },
  {
   "cell_type": "markdown",
   "id": "791c3038-7baa-46d1-99a6-83d41001d1f4",
   "metadata": {},
   "source": [
    "Some of the commonly used libraries used by Data Scientists include:\n",
    "1. TensorFlow\n",
    "2. NumPy\n",
    "3. Pandas\n",
    "4. PyTorch\n",
    "5. Keras"
   ]
  },
  {
   "cell_type": "markdown",
   "id": "f3025497-f606-4d96-862e-b1e22a776545",
   "metadata": {},
   "source": [
    "|Data Science Tools|\n",
    "|:-:|\n",
    "|PyCharm|\n",
    "|JupyterLabs|\n",
    "|Spyder|"
   ]
  },
  {
   "cell_type": "markdown",
   "id": "04173a85-b869-4c33-b233-39a2fa0cb1b7",
   "metadata": {},
   "source": [
    "### Below are a few examples of evaluating arithmetic expressions in Python"
   ]
  },
  {
   "cell_type": "code",
   "execution_count": 25,
   "id": "cd6973b9-7e63-4073-8d8c-264e0282cf4c",
   "metadata": {},
   "outputs": [
    {
     "data": {
      "text/plain": [
       "17"
      ]
     },
     "execution_count": 25,
     "metadata": {},
     "output_type": "execute_result"
    }
   ],
   "source": [
    "# This a simple arithmetic expression to mutiply then add integers\n",
    "(3*4)+5"
   ]
  },
  {
   "cell_type": "code",
   "execution_count": 29,
   "id": "adffff5f-a2e6-4962-aaf6-ca0ccbc83fa7",
   "metadata": {},
   "outputs": [
    {
     "name": "stdout",
     "output_type": "stream",
     "text": [
      "200 minutes equals 3.3333333333333335 hours\n"
     ]
    }
   ],
   "source": [
    "# This will convert 200 minutes to hours by dividing by 60\n",
    "a = 200/60\n",
    "print('200 minutes equals', a, 'hours')"
   ]
  },
  {
   "cell_type": "markdown",
   "id": "758f33d6-3c86-4dea-9c34-a33db2613698",
   "metadata": {},
   "source": [
    "## Author \n",
    "Daniel Kim"
   ]
  }
 ],
 "metadata": {
  "kernelspec": {
   "display_name": "Python",
   "language": "python",
   "name": "conda-env-python-py"
  },
  "language_info": {
   "codemirror_mode": {
    "name": "ipython",
    "version": 3
   },
   "file_extension": ".py",
   "mimetype": "text/x-python",
   "name": "python",
   "nbconvert_exporter": "python",
   "pygments_lexer": "ipython3",
   "version": "3.7.12"
  }
 },
 "nbformat": 4,
 "nbformat_minor": 5
}
